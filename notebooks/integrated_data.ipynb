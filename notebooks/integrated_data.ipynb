{
 "cells": [
  {
   "cell_type": "markdown",
   "metadata": {},
   "source": [
    "# Load and inspect integrated data"
   ]
  },
  {
   "cell_type": "markdown",
   "metadata": {},
   "source": [
    "`cpg0016` comprises three modalities: CRISPR, ORF, and compound perturbations. Plates corresponding to each modality have been integrated into a single table."
   ]
  },
  {
   "cell_type": "code",
   "execution_count": 25,
   "metadata": {},
   "outputs": [],
   "source": [
    "import polars as pl\n",
    "import pprint"
   ]
  },
  {
   "cell_type": "code",
   "execution_count": 26,
   "metadata": {},
   "outputs": [],
   "source": [
    "# ORF\n",
    "orf_source_dir = \"s3://cellpainting-gallery/cpg0016-jump-integrated/source_all/workspace/profiles/chandrasekaran_2024_0000000/orf\"\n",
    "orf_source_file = \"wellpos_cellcount_mad_outlier_nan_featselect_harmony.parquet\"\n",
    "orf = f\"{orf_source_dir}/{orf_source_file}\"\n",
    "\n",
    "# CRISPR\n",
    "crispr_source_dir = \"s3://cellpainting-gallery/cpg0016-jump-integrated/source_all/workspace/profiles/chandrasekaran_2024_0000000/crispr\"\n",
    "crispr_source_file = \"wellpos_cellcount_mad_outlier_nan_featselect_harmony.parquet\"\n",
    "crispr = f\"{crispr_source_dir}/{crispr_source_file}\"\n",
    "\n",
    "# Compound\n",
    "compound_source_dir = \"s3://cellpainting-gallery/cpg0016-jump-integrated/source_all/workspace/profiles/arevalo_2023_e834481/compound\"\n",
    "compound_source_file = \"mad_int_featselect_harmony.parquet\"\n",
    "compound = f\"{compound_source_dir}/{compound_source_file}\""
   ]
  },
  {
   "cell_type": "code",
   "execution_count": 27,
   "metadata": {},
   "outputs": [],
   "source": [
    "def preview(file):\n",
    "    df = pl.scan_parquet(file)\n",
    "\n",
    "    lazy_df = df.lazy()\n",
    "\n",
    "    metadata_columns = [col for col in lazy_df.columns if col.startswith(\"Metadata\")]\n",
    "\n",
    "    feature_columns = [col for col in lazy_df.columns if not col.startswith(\"Metadata\")]\n",
    "\n",
    "    selected_columns = metadata_columns + feature_columns[0:2]\n",
    "\n",
    "    result = (\n",
    "        lazy_df.filter(pl.col(\"Metadata_Well\") == \"K08\")\n",
    "        .select(selected_columns)\n",
    "        .limit(200)\n",
    "        .collect()\n",
    "        .sample(n=5)\n",
    "    )\n",
    "\n",
    "    result.glimpse()"
   ]
  },
  {
   "cell_type": "code",
   "execution_count": 28,
   "metadata": {},
   "outputs": [
    {
     "name": "stdout",
     "output_type": "stream",
     "text": [
      "Rows: 5\n",
      "Columns: 22\n",
      "$ Metadata_Source           <str> 'source_4', 'source_4', 'source_4', 'source_4', 'source_4'\n",
      "$ Metadata_Plate            <str> 'BR00126053', 'BR00123516', 'BR00121553', 'BR00126542', 'BR00126044'\n",
      "$ Metadata_Well             <str> 'K08', 'K08', 'K08', 'K08', 'K08'\n",
      "$ Metadata_JCP2022          <str> 'JCP2022_910990', 'JCP2022_904910', 'JCP2022_905618', 'JCP2022_911001', 'JCP2022_915129'\n",
      "$ Metadata_broad_sample     <str> 'ccsbBroad304_11785', 'ccsbBroad304_05251', 'ccsbBroad304_06010', 'ccsbBroad304_11797', 'ccsbBroad304_99988'\n",
      "$ Metadata_Name             <str> 'ORF005171.1_TRC304.1', 'ORF003011.1_TRC304.1', 'ORF016170.1_TRC304.1', 'ORF017833.1_TRC304.1', 'ORFC00002.1_TRC304.1'\n",
      "$ Metadata_Vector           <str> 'pLX_304', 'pLX_304', 'pLX_304', 'pLX_304', 'pLX_304'\n",
      "$ Metadata_Transcript       <str> 'NM_015473.4', 'NM_174928.2', 'NM_001286.4', 'NM_015527.4', 'HcRed.1'\n",
      "$ Metadata_Symbol           <str> 'HEATR5A', 'EEF1AKMT1', 'CLCN6', 'TBC1D10B', 'HcRed'\n",
      "$ Metadata_NCBI_Gene_ID     <str> '25938', '221143', '1185', '26000', 'HcRed'\n",
      "$ Metadata_Taxon_ID         <str> '9606', '9606', '9606', '9606', 'CONTROL'\n",
      "$ Metadata_Gene_Description <str> 'HEAT repeat containing 5A', 'EEF1A lysine methyltransferase 1', 'chloride voltage-gated channel 6', 'TBC1 domain family member 10B', 'nan'\n",
      "$ Metadata_Prot_Match       <str> '5.5', '100.0', '99.8', '65.9', 'nan'\n",
      "$ Metadata_Insert_Length    <str> '339.0', '642.0', '2607.0', '1599.0', '824.0'\n",
      "$ Metadata_pert_type        <str> 'trt', 'trt', 'trt', 'trt', 'negcon'\n",
      "$ Metadata_Batch            <str> '2021_07_26_Batch9', '2021_05_17_Batch4', '2021_05_31_Batch2', '2021_08_09_Batch11', '2021_07_26_Batch9'\n",
      "$ Metadata_PlateType        <str> 'ORF', 'ORF', 'ORF', 'ORF', 'ORF'\n",
      "$ Metadata_Row              <str> 'K', 'K', 'K', 'K', 'K'\n",
      "$ Metadata_Column           <str> '08', '08', '08', '08', '08'\n",
      "$ Metadata_plate_map_name   <str> 'OAB49.OAA94.95.96.A', 'OAA50.51.52.53.A', 'OAA97.98.99.XX.A', 'OAB37.38.39.40.A', 'OAB74.75.76.47.A'\n",
      "$ X_harmony_0000            <f32> -0.0391242653131485, -0.15965679287910461, 0.016371244564652443, 5.2941694259643555, -0.2861729562282562\n",
      "$ X_harmony_0001            <f32> -0.5734286904335022, -0.21193958818912506, 0.6938048601150513, 1.9372963905334473, 1.184981346130371\n",
      "\n"
     ]
    }
   ],
   "source": [
    "preview(orf)"
   ]
  },
  {
   "cell_type": "code",
   "execution_count": 29,
   "metadata": {},
   "outputs": [
    {
     "name": "stdout",
     "output_type": "stream",
     "text": [
      "Rows: 5\n",
      "Columns: 10\n",
      "$ Metadata_Source    <str> 'source_13', 'source_13', 'source_13', 'source_13', 'source_13'\n",
      "$ Metadata_Plate     <str> 'CP-CC9-R2-18', 'CP-CC9-R2-27', 'CP-CC9-R1-25', 'CP-CC9-R5-15', 'CP-CC9-R2-17'\n",
      "$ Metadata_Well      <str> 'K08', 'K08', 'K08', 'K08', 'K08'\n",
      "$ Metadata_JCP2022   <str> 'JCP2022_800437', 'JCP2022_800001', 'JCP2022_807471', 'JCP2022_801595', 'JCP2022_802523'\n",
      "$ Metadata_Batch     <str> '20221009_Run2', '20221009_Run2', '20220914_Run1', '20221109_Run5', '20221009_Run2'\n",
      "$ Metadata_PlateType <str> 'CRISPR', 'CRISPR', 'CRISPR', 'CRISPR', 'CRISPR'\n",
      "$ Metadata_Row       <str> 'K', 'K', 'K', 'K', 'K'\n",
      "$ Metadata_Column    <str> '08', '08', '08', '08', '08'\n",
      "$ X_harmony_0000     <f32> -9.455662727355957, -21.31245231628418, 5.230257987976074, -19.21879005432129, -8.955716133117676\n",
      "$ X_harmony_0001     <f32> -6.56337833404541, 3.395615339279175, -23.338926315307617, 7.264920234680176, 6.719682216644287\n",
      "\n"
     ]
    }
   ],
   "source": [
    "preview(crispr)"
   ]
  },
  {
   "cell_type": "code",
   "execution_count": 30,
   "metadata": {},
   "outputs": [
    {
     "name": "stdout",
     "output_type": "stream",
     "text": [
      "Rows: 5\n",
      "Columns: 12\n",
      "$ Metadata_Source     <cat> source_2, source_2, source_2, source_2, source_2\n",
      "$ Metadata_Plate      <cat> 1053601756, 1086292327, 1053599688, 1086289693, 1086290347\n",
      "$ Metadata_Well       <cat> K08, K08, K08, K08, K08\n",
      "$ Metadata_JCP2022    <cat> JCP2022_110802, JCP2022_109156, JCP2022_103545, JCP2022_084754, JCP2022_019390\n",
      "$ Metadata_Batch      <cat> 20210607_Batch_2, 20210816_Batch_9, 20210621_Batch_3, 20211003_Batch_13, 20210920_Batch_12\n",
      "$ Metadata_PlateType  <cat> COMPOUND, COMPOUND, COMPOUND, COMPOUND, COMPOUND\n",
      "$ Metadata_PertType   <cat> trt, trt, trt, trt, trt\n",
      "$ Metadata_Row        <cat> K, K, K, K, K\n",
      "$ Metadata_Column     <cat> 08, 08, 08, 08, 08\n",
      "$ Metadata_Microscope <cat> CV8000, CV8000, CV8000, CV8000, CV8000\n",
      "$ harmony_0           <f32> 0.3439345359802246, 0.2985861599445343, -0.6214839220046997, 0.39734596014022827, -1.2525172233581543\n",
      "$ harmony_1           <f32> -0.8251946568489075, -1.2919988632202148, 0.4527185559272766, 0.12860026955604553, 0.5053775906562805\n",
      "\n"
     ]
    }
   ],
   "source": [
    "preview(compound)"
   ]
  }
 ],
 "metadata": {
  "kernelspec": {
   "display_name": "datasets-jB4-vb4B",
   "language": "python",
   "name": "python3"
  },
  "language_info": {
   "codemirror_mode": {
    "name": "ipython",
    "version": 3
   },
   "file_extension": ".py",
   "mimetype": "text/x-python",
   "name": "python",
   "nbconvert_exporter": "python",
   "pygments_lexer": "ipython3",
   "version": "3.10.12"
  }
 },
 "nbformat": 4,
 "nbformat_minor": 2
}
