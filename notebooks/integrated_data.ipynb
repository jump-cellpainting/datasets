{
 "cells": [
  {
   "cell_type": "markdown",
   "metadata": {},
   "source": [
    "# Load and inspect integrated data"
   ]
  },
  {
   "cell_type": "markdown",
   "metadata": {},
   "source": [
    "`cpg0016` comprises three modalities: CRISPR, ORF, and compound perturbations. Plates corresponding to each modality have been integrated into a single table."
   ]
  },
  {
   "cell_type": "code",
   "execution_count": 19,
   "metadata": {},
   "outputs": [],
   "source": [
    "import polars as pl\n",
    "import pprint"
   ]
  },
  {
   "cell_type": "code",
   "execution_count": 20,
   "metadata": {},
   "outputs": [],
   "source": [
    "# ORF\n",
    "orf_source_dir = \"s3://cellpainting-gallery/cpg0016-jump-integrated/source_all/workspace/profiles/chandrasekaran_2024_0000000/orf\"\n",
    "orf_source_file = \"wellpos_cellcount_mad_outlier_nan_featselect_harmony.parquet\"\n",
    "orf = f\"{orf_source_dir}/{orf_source_file}\"\n",
    "\n",
    "# CRISPR\n",
    "crispr_source_dir = \"s3://cellpainting-gallery/cpg0016-jump-integrated/source_all/workspace/profiles/chandrasekaran_2024_0000000/crispr\"\n",
    "crispr_source_file = \"wellpos_cellcount_mad_outlier_nan_featselect_harmony.parquet\"\n",
    "crispr = f\"{crispr_source_dir}/{crispr_source_file}\"\n",
    "\n",
    "# Compound\n",
    "compound_source_dir = \"s3://cellpainting-gallery/cpg0016-jump-integrated/source_all/workspace/profiles/arevalo_2023_e834481/compound\"\n",
    "compound_source_file = \"mad_int_featselect_harmony.parquet\"\n",
    "compound = f\"{compound_source_dir}/{compound_source_file}\""
   ]
  },
  {
   "cell_type": "code",
   "execution_count": 21,
   "metadata": {},
   "outputs": [],
   "source": [
    "def preview(file):\n",
    "    df = pl.scan_parquet(file)\n",
    "\n",
    "    lazy_df = df.lazy()\n",
    "\n",
    "    metadata_columns = [col for col in lazy_df.columns if col.startswith(\"Metadata\")]\n",
    "\n",
    "    feature_columns = [col for col in lazy_df.columns if not col.startswith(\"Metadata\")]\n",
    "\n",
    "    selected_columns = metadata_columns + feature_columns[0:2]\n",
    "\n",
    "    result = (\n",
    "        lazy_df.filter(pl.col(\"Metadata_Well\") == \"K08\")\n",
    "        .select(selected_columns)\n",
    "        .limit(200)\n",
    "        .collect()\n",
    "        .sample(n=5)\n",
    "    )\n",
    "\n",
    "    result.glimpse()"
   ]
  },
  {
   "cell_type": "code",
   "execution_count": 22,
   "metadata": {},
   "outputs": [
    {
     "name": "stdout",
     "output_type": "stream",
     "text": [
      "Rows: 20\n",
      "Columns: 22\n",
      "$ Metadata_Source           <str> 'source_4', 'source_4', 'source_4', 'source_4', 'source_4', 'source_4', 'source_4', 'source_4', 'source_4', 'source_4'\n",
      "$ Metadata_Plate            <str> 'BR00123506', 'BR00126545', 'BR00123512', 'BR00123947', 'BR00123621', 'BR00126539', 'BR00124794', 'BR00126547', 'BR00126393', 'BR00123535'\n",
      "$ Metadata_Well             <str> 'K08', 'K08', 'K08', 'K08', 'K08', 'K08', 'K08', 'K08', 'K08', 'K08'\n",
      "$ Metadata_JCP2022          <str> 'JCP2022_902207', 'JCP2022_914354', 'JCP2022_904910', 'JCP2022_905062', 'JCP2022_911203', 'JCP2022_911001', 'JCP2022_909408', 'JCP2022_914354', 'JCP2022_913483', 'JCP2022_902865'\n",
      "$ Metadata_broad_sample     <str> 'ccsbBroad304_02356', 'ccsbBroad304_15350', 'ccsbBroad304_05251', 'ccsbBroad304_05410', 'ccsbBroad304_12016', 'ccsbBroad304_11797', 'ccsbBroad304_10107', 'ccsbBroad304_15350', 'ccsbBroad304_14446', 'ccsbBroad304_03052'\n",
      "$ Metadata_Name             <str> 'ORF015971.1_TRC304.1', 'ORF014427.1_TRC304.1', 'ORF003011.1_TRC304.1', 'ORF003676.1_TRC304.1', 'ORF000129.1_TRC304.1', 'ORF017833.1_TRC304.1', 'ORF011913.1_TRC304.1', 'ORF014427.1_TRC304.1', 'ORF003918.1_TRC304.1', 'ORF003277.1_TRC304.1'\n",
      "$ Metadata_Vector           <str> 'pLX_304', 'pLX_304', 'pLX_304', 'pLX_304', 'pLX_304', 'pLX_304', 'pLX_304', 'pLX_304', 'pLX_304', 'pLX_304'\n",
      "$ Metadata_Transcript       <str> 'NM_005804.4', 'NM_001089.3', 'NM_174928.2', 'NM_001369816.1', 'NM_001042452.2', 'NM_015527.4', 'NM_001005182.1', 'NM_001089.3', 'NM_001037732.3', 'NM_014050.4'\n",
      "$ Metadata_Symbol           <str> 'DDX39A', 'ABCA3', 'EEF1AKMT1', 'CNPY1', 'STK26', 'TBC1D10B', 'OR6C1', 'ABCA3', 'DEFB128', 'MRPL42'\n",
      "$ Metadata_NCBI_Gene_ID     <str> '10212', '21', '221143', '285888', '51765', '26000', '390321', '21', '245939', '28977'\n",
      "$ Metadata_Taxon_ID         <str> '9606', '9606', '9606', '9606', '9606', '9606', '9606', '9606', '9606', '9606'\n",
      "$ Metadata_Gene_Description <str> 'DExD-box helicase 39A', 'ATP binding cassette subfamily A member 3', 'EEF1A lysine methyltransferase 1', 'canopy FGF signaling regulator 1', 'serine/threonine kinase 26', 'TBC1 domain family member 10B', 'olfactory receptor family 6 subfamily C member 1', 'ATP binding cassette subfamily A member 3', 'defensin beta 128', 'mitochondrial ribosomal protein L42'\n",
      "$ Metadata_Prot_Match       <str> '100.0', '12.0', '100.0', '100.0', '32.4', '65.9', '99.6', '12.0', '66.6', '100.0'\n",
      "$ Metadata_Insert_Length    <str> '1281.0', '627.0', '642.0', '276.0', '411.0', '1599.0', '936.0', '627.0', '279.0', '426.0'\n",
      "$ Metadata_pert_type        <str> 'trt', 'trt', 'trt', 'trt', 'trt', 'trt', 'trt', 'trt', 'trt', 'trt'\n",
      "$ Metadata_Batch            <str> '2021_05_10_Batch3', '2021_08_09_Batch11', '2021_05_17_Batch4', '2021_06_07_Batch5', '2021_05_10_Batch3', '2021_08_09_Batch11', '2021_08_02_Batch10', '2021_08_09_Batch11', '2021_08_02_Batch10', '2021_08_30_Batch13'\n",
      "$ Metadata_PlateType        <str> 'ORF', 'ORF', 'ORF', 'ORF', 'ORF', 'ORF', 'ORF', 'ORF', 'ORF', 'ORF'\n",
      "$ Metadata_Row              <str> 'K', 'K', 'K', 'K', 'K', 'K', 'K', 'K', 'K', 'K'\n",
      "$ Metadata_Column           <str> '08', '08', '08', '08', '08', '08', '08', '08', '08', '08'\n",
      "$ Metadata_plate_map_name   <str> 'OAA33.34.35.36.A', 'OAC18.OAB81.82.83.A', 'OAA50.51.52.53.A', 'OAA49.59.79.80.A', 'OAA41.42.43.OAB45.A', 'OAB37.38.39.40.A', 'OAC01.02.03.04.A', 'OAC18.OAB81.82.83.A', 'OAB92.93.94.95.A', 'OAA81.82.83.84.A'\n",
      "$ X_harmony_0000            <f32> 0.012914719991385937, 0.02252587489783764, -0.10314861685037613, -0.3194440007209778, -0.09914682060480118, -0.16907042264938354, -0.2228095829486847, -0.09088282287120819, -0.28486302495002747, 0.08850565552711487\n",
      "$ X_harmony_0001            <f32> 0.23698139190673828, -0.7840979695320129, 1.7915939092636108, 0.6619089841842651, -0.036678001284599304, 0.7748987674713135, 1.3423073291778564, 0.888660192489624, 0.5822746157646179, 0.635269284248352\n",
      "\n"
     ]
    }
   ],
   "source": [
    "preview(orf)"
   ]
  },
  {
   "cell_type": "code",
   "execution_count": 23,
   "metadata": {},
   "outputs": [
    {
     "name": "stdout",
     "output_type": "stream",
     "text": [
      "Rows: 20\n",
      "Columns: 10\n",
      "$ Metadata_Source    <str> 'source_13', 'source_13', 'source_13', 'source_13', 'source_13', 'source_13', 'source_13', 'source_13', 'source_13', 'source_13'\n",
      "$ Metadata_Plate     <str> 'CP-CC9-R1-14', 'CP-CC9-R1-03', 'CP-CC9-R5-08', 'CP-CC9-R5-04', 'CP-CC9-R4-15', 'CP-CC9-R1-19', 'CP-CC9-R3-08', 'CP-CC9-R5-15', 'CP-CC9-R2-17', 'CP-CC9-R3-03'\n",
      "$ Metadata_Well      <str> 'K08', 'K08', 'K08', 'K08', 'K08', 'K08', 'K08', 'K08', 'K08', 'K08'\n",
      "$ Metadata_JCP2022   <str> 'JCP2022_805264', 'JCP2022_805308', 'JCP2022_806802', 'JCP2022_800107', 'JCP2022_801595', 'JCP2022_800303', 'JCP2022_806802', 'JCP2022_801595', 'JCP2022_802523', 'JCP2022_805308'\n",
      "$ Metadata_Batch     <str> '20220914_Run1', '20220914_Run1', '20221109_Run5', '20221109_Run5', '20221024_Run4', '20220914_Run1', '20221017_Run3', '20221109_Run5', '20221009_Run2', '20221017_Run3'\n",
      "$ Metadata_PlateType <str> 'CRISPR', 'CRISPR', 'CRISPR', 'CRISPR', 'CRISPR', 'CRISPR', 'CRISPR', 'CRISPR', 'CRISPR', 'CRISPR'\n",
      "$ Metadata_Row       <str> 'K', 'K', 'K', 'K', 'K', 'K', 'K', 'K', 'K', 'K'\n",
      "$ Metadata_Column    <str> '08', '08', '08', '08', '08', '08', '08', '08', '08', '08'\n",
      "$ X_harmony_0000     <f32> 214.55726623535156, -12.709378242492676, -36.283817291259766, -29.89374351501465, -10.12768840789795, -27.68177032470703, -16.42812156677246, -19.21879005432129, -8.955716133117676, -39.752655029296875\n",
      "$ X_harmony_0001     <f32> -80.19964599609375, -11.763716697692871, 9.923046112060547, 4.186404228210449, 6.4612016677856445, 5.46981954574585, 13.268853187561035, 7.264920234680176, 6.719682216644287, -43.063602447509766\n",
      "\n"
     ]
    }
   ],
   "source": [
    "preview(crispr)"
   ]
  },
  {
   "cell_type": "code",
   "execution_count": 24,
   "metadata": {},
   "outputs": [
    {
     "name": "stdout",
     "output_type": "stream",
     "text": [
      "Rows: 20\n",
      "Columns: 12\n",
      "$ Metadata_Source     <cat> source_2, source_2, source_2, source_2, source_2, source_2, source_2, source_2, source_2, source_2\n",
      "$ Metadata_Plate      <cat> 1086293447, 1086292754, 1086293812, 1053600834, 1086292891, 1086289785, 1053601848, 1086292464, 1053600766, 1053598001\n",
      "$ Metadata_Well       <cat> K08, K08, K08, K08, K08, K08, K08, K08, K08, K08\n",
      "$ Metadata_JCP2022    <cat> JCP2022_017468, JCP2022_063632, JCP2022_100570, JCP2022_098838, JCP2022_018721, JCP2022_111119, JCP2022_060243, JCP2022_064143, JCP2022_020865, JCP2022_044720\n",
      "$ Metadata_Batch      <cat> 20210726_Batch_7, 20210808_Batch_4, 20210719_Batch_6, 20210614_Batch_1, 20210808_Batch_4, 20211003_Batch_13, 20210607_Batch_2, 20210816_Batch_9, 20210614_Batch_1, 20210712_Batch_5\n",
      "$ Metadata_PlateType  <cat> COMPOUND, COMPOUND, COMPOUND, COMPOUND, COMPOUND, COMPOUND, COMPOUND, COMPOUND, COMPOUND, COMPOUND\n",
      "$ Metadata_PertType   <cat> trt, trt, trt, trt, trt, trt, trt, trt, trt, trt\n",
      "$ Metadata_Row        <cat> K, K, K, K, K, K, K, K, K, K\n",
      "$ Metadata_Column     <cat> 08, 08, 08, 08, 08, 08, 08, 08, 08, 08\n",
      "$ Metadata_Microscope <cat> CV8000, CV8000, CV8000, CV8000, CV8000, CV8000, CV8000, CV8000, CV8000, CV8000\n",
      "$ harmony_0           <f32> 1.1136434078216553, 1.2556368112564087, -1.5299937725067139, -0.05585690587759018, 1.1985610723495483, -0.3564443290233612, -0.5113034844398499, 0.13217949867248535, -0.5722991228103638, -0.9156379699707031\n",
      "$ harmony_1           <f32> 1.880698561668396, 0.43660756945610046, -1.9818116426467896, -0.2298097312450409, -0.7301692962646484, -0.05351157858967781, -0.08537635952234268, 0.4537446200847626, 1.376219391822815, -0.43996259570121765\n",
      "\n"
     ]
    }
   ],
   "source": [
    "preview(compound)"
   ]
  }
 ],
 "metadata": {
  "kernelspec": {
   "display_name": "datasets-jB4-vb4B",
   "language": "python",
   "name": "python3"
  },
  "language_info": {
   "codemirror_mode": {
    "name": "ipython",
    "version": 3
   },
   "file_extension": ".py",
   "mimetype": "text/x-python",
   "name": "python",
   "nbconvert_exporter": "python",
   "pygments_lexer": "ipython3",
   "version": "3.10.12"
  }
 },
 "nbformat": 4,
 "nbformat_minor": 2
}
