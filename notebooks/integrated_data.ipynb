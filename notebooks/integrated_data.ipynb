{
 "cells": [
  {
   "cell_type": "markdown",
   "metadata": {},
   "source": [
    "# Load and inspect integrated data"
   ]
  },
  {
   "cell_type": "markdown",
   "metadata": {},
   "source": [
    "`cpg0016` comprises three modalities: CRISPR, ORF, and compound perturbations. Plates corresponding to each modality have been integrated into a single table."
   ]
  },
  {
   "cell_type": "code",
   "execution_count": 7,
   "metadata": {},
   "outputs": [],
   "source": [
    "import polars as pl\n",
    "import pprint"
   ]
  },
  {
   "cell_type": "code",
   "execution_count": 8,
   "metadata": {},
   "outputs": [],
   "source": [
    "# ORF\n",
    "orf_source_dir = \"s3://cellpainting-gallery/cpg0016-jump-integrated/source_all/workspace/profiles/chandrasekaran_2024_0000000/orf\"\n",
    "orf_source_file = \"wellpos_cellcount_mad_outlier_nan_featselect_harmony.parquet\"\n",
    "orf = f\"{orf_source_dir}/{orf_source_file}\"\n",
    "\n",
    "# CRISPR\n",
    "crispr_source_dir = \"s3://cellpainting-gallery/cpg0016-jump-integrated/source_all/workspace/profiles/chandrasekaran_2024_0000000/crispr\"\n",
    "crispr_source_file = \"wellpos_cellcount_mad_outlier_nan_featselect_harmony.parquet\"\n",
    "crispr = f\"{crispr_source_dir}/{crispr_source_file}\"\n",
    "\n",
    "# Compound\n",
    "compound_source_dir = \"s3://cellpainting-gallery/cpg0016-jump-integrated/source_all/workspace/profiles/arevalo_2023_e834481/compound\"\n",
    "compound_source_file = \"mad_int_featselect_harmony.parquet\"\n",
    "compound = f\"{compound_source_dir}/{compound_source_file}\""
   ]
  },
  {
   "cell_type": "code",
   "execution_count": 9,
   "metadata": {},
   "outputs": [],
   "source": [
    "def preview(file):\n",
    "    df = pl.scan_parquet(file)\n",
    "\n",
    "    lazy_df = df.lazy()\n",
    "\n",
    "    metadata_columns = [col for col in lazy_df.columns if col.startswith(\"Metadata\")]\n",
    "\n",
    "    feature_columns = [col for col in lazy_df.columns if not col.startswith(\"Metadata\")]\n",
    "\n",
    "    selected_columns = metadata_columns + feature_columns[0:2]\n",
    "\n",
    "    result = (\n",
    "        lazy_df.filter(pl.col(\"Metadata_Well\") == \"K08\")\n",
    "        .select(selected_columns)\n",
    "        .limit(200)\n",
    "        .collect()\n",
    "        .sample(n=20)\n",
    "    )\n",
    "\n",
    "    result.glimpse()"
   ]
  },
  {
   "cell_type": "code",
   "execution_count": 10,
   "metadata": {},
   "outputs": [
    {
     "name": "stdout",
     "output_type": "stream",
     "text": [
      "Rows: 20\n",
      "Columns: 22\n",
      "$ Metadata_Source           <str> 'source_4', 'source_4', 'source_4', 'source_4', 'source_4', 'source_4', 'source_4', 'source_4', 'source_4', 'source_4'\n",
      "$ Metadata_Plate            <str> 'BR00121560', 'BR00126395', 'BR00123951', 'BR00123948', 'BR00125626', 'BR00121539', 'BR00126044', 'BR00124773', 'BR00126542', 'BR00123950'\n",
      "$ Metadata_Well             <str> 'K08', 'K08', 'K08', 'K08', 'K08', 'K08', 'K08', 'K08', 'K08', 'K08'\n",
      "$ Metadata_JCP2022          <str> 'JCP2022_904359', 'JCP2022_910866', 'JCP2022_905062', 'JCP2022_905062', 'JCP2022_907581', 'JCP2022_901564', 'JCP2022_915129', 'JCP2022_909248', 'JCP2022_911001', 'JCP2022_905062'\n",
      "$ Metadata_broad_sample     <str> 'ccsbBroad304_04654', 'ccsbBroad304_11655', 'ccsbBroad304_05410', 'ccsbBroad304_05410', 'ccsbBroad304_08106', 'ccsbBroad304_01680', 'ccsbBroad304_99988', 'ccsbBroad304_09927', 'ccsbBroad304_11797', 'ccsbBroad304_05410'\n",
      "$ Metadata_Name             <str> 'ORF001201.1_TRC304.1', 'ORF014714.1_TRC304.1', 'ORF003676.1_TRC304.1', 'ORF003676.1_TRC304.1', 'ORF016760.1_TRC304.1', 'ORF011954.1_TRC304.1', 'ORFC00002.1_TRC304.1', 'ORF007320.1_TRC304.1', 'ORF017833.1_TRC304.1', 'ORF003676.1_TRC304.1'\n",
      "$ Metadata_Vector           <str> 'pLX_304', 'pLX_304', 'pLX_304', 'pLX_304', 'pLX_304', 'pLX_304', 'pLX_304', 'pLX_304', 'pLX_304', 'pLX_304'\n",
      "$ Metadata_Transcript       <str> 'NM_052882.1', 'NM_001282165.2', 'NM_001369816.1', 'NM_001369816.1', 'NM_014172.6', 'NM_003269.5', 'HcRed.1', 'NM_001031800.3', 'NM_015527.4', 'NM_001369816.1'\n",
      "$ Metadata_Symbol           <str> 'ZIM3', 'P2RX2', 'CNPY1', 'CNPY1', 'PHPT1', 'NR2E1', 'HcRed', 'TIPRL', 'TBC1D10B', 'CNPY1'\n",
      "$ Metadata_NCBI_Gene_ID     <str> '114026', '22953', '285888', '285888', '29085', '7101', 'HcRed', '261726', '26000', '285888'\n",
      "$ Metadata_Taxon_ID         <str> '9606', '9606', '9606', '9606', '9606', '9606', 'CONTROL', '9606', '9606', '9606'\n",
      "$ Metadata_Gene_Description <str> 'zinc finger imprinted 3', 'purinergic receptor P2X 2', 'canopy FGF signaling regulator 1', 'canopy FGF signaling regulator 1', 'phosphohistidine phosphatase 1', 'nuclear receptor subfamily 2 group E member 1', 'nan', 'TOR signaling pathway regulator', 'TBC1 domain family member 10B', 'canopy FGF signaling regulator 1'\n",
      "$ Metadata_Prot_Match       <str> '100.0', '100.0', '100.0', '100.0', '100.0', '100.0', 'nan', '99.4', '65.9', '100.0'\n",
      "$ Metadata_Insert_Length    <str> '1416.0', '1047.0', '276.0', '276.0', '375.0', '1155.0', '824.0', '534.0', '1599.0', '276.0'\n",
      "$ Metadata_pert_type        <str> 'trt', 'trt', 'trt', 'trt', 'trt', 'trt', 'negcon', 'trt', 'trt', 'trt'\n",
      "$ Metadata_Batch            <str> '2021_04_26_Batch1', '2021_08_02_Batch10', '2021_06_07_Batch5', '2021_06_07_Batch5', '2021_07_12_Batch8', '2021_04_26_Batch1', '2021_07_26_Batch9', '2021_06_14_Batch6', '2021_08_09_Batch11', '2021_06_07_Batch5'\n",
      "$ Metadata_PlateType        <str> 'ORF', 'ORF', 'ORF', 'ORF', 'ORF', 'ORF', 'ORF', 'ORF', 'ORF', 'ORF'\n",
      "$ Metadata_Row              <str> 'K', 'K', 'K', 'K', 'K', 'K', 'K', 'K', 'K', 'K'\n",
      "$ Metadata_Column           <str> '08', '08', '08', '08', '08', '08', '08', '08', '08', '08'\n",
      "$ Metadata_plate_map_name   <str> 'OAA01.02.03.04.A', 'OAB33.34.35.36.A', 'OAA49.59.79.80.A', 'OAA49.59.79.80.A', 'OAB21.22.23.24.A', 'OAA09.10.11.12.A', 'OAB74.75.76.47.A', 'OAB01.02.03.04.A', 'OAB37.38.39.40.A', 'OAA49.59.79.80.A'\n",
      "$ X_harmony_0000            <f32> -0.038369882851839066, -0.033227331936359406, 32.18224334716797, 26.240400314331055, -0.06965748220682144, -0.033964745700359344, -0.2861729562282562, -0.1898195594549179, 5.2941694259643555, -0.8014958500862122\n",
      "$ X_harmony_0001            <f32> -0.3767291307449341, -0.7951173782348633, 1.4591619968414307, 0.7215415239334106, 0.8455065488815308, -1.07059645652771, 1.184981346130371, -1.1090792417526245, 1.9372963905334473, 1.1052576303482056\n",
      "\n"
     ]
    }
   ],
   "source": [
    "preview(orf)"
   ]
  },
  {
   "cell_type": "code",
   "execution_count": 11,
   "metadata": {},
   "outputs": [
    {
     "name": "stdout",
     "output_type": "stream",
     "text": [
      "Rows: 20\n",
      "Columns: 10\n",
      "$ Metadata_Source    <str> 'source_13', 'source_13', 'source_13', 'source_13', 'source_13', 'source_13', 'source_13', 'source_13', 'source_13', 'source_13'\n",
      "$ Metadata_Plate     <str> 'CP-CC9-R2-11', 'CP-CC9-R3-15', 'CP-CC9-R3-21', 'CP-CC9-R2-13', 'CP-CC9-R8-01', 'CP-CC9-R1-10', 'CP-CC9-R5-16', 'CP-CC9-R4-19', 'CP-CC9-R7-01', 'CP-CC9-R5-05'\n",
      "$ Metadata_Well      <str> 'K08', 'K08', 'K08', 'K08', 'K08', 'K08', 'K08', 'K08', 'K08', 'K08'\n",
      "$ Metadata_JCP2022   <str> 'JCP2022_801478', 'JCP2022_801595', 'JCP2022_802645', 'JCP2022_803989', 'JCP2022_801135', 'JCP2022_801191', 'JCP2022_804724', 'JCP2022_800303', 'JCP2022_801135', 'JCP2022_802155'\n",
      "$ Metadata_Batch     <str> '20221009_Run2', '20221017_Run3', '20221017_Run3', '20221009_Run2', '20221109_Run5', '20220914_Run1', '20221109_Run5', '20221024_Run4', '20221109_Run5', '20221109_Run5'\n",
      "$ Metadata_PlateType <str> 'CRISPR', 'CRISPR', 'CRISPR', 'CRISPR', 'CRISPR', 'CRISPR', 'CRISPR', 'CRISPR', 'CRISPR', 'CRISPR'\n",
      "$ Metadata_Row       <str> 'K', 'K', 'K', 'K', 'K', 'K', 'K', 'K', 'K', 'K'\n",
      "$ Metadata_Column    <str> '08', '08', '08', '08', '08', '08', '08', '08', '08', '08'\n",
      "$ X_harmony_0000     <f32> -2.219623565673828, 10.257285118103027, -13.27255916595459, -14.80980396270752, 36.377159118652344, -38.312843322753906, -7.189889430999756, -15.810790061950684, 105.01087188720703, -26.96406364440918\n",
      "$ X_harmony_0001     <f32> -13.597322463989258, -13.843647003173828, 12.12466812133789, 6.793293476104736, -19.816974639892578, 12.562948226928711, -10.76308822631836, 5.154109954833984, -78.34990692138672, 0.4845605492591858\n",
      "\n"
     ]
    }
   ],
   "source": [
    "preview(crispr)"
   ]
  },
  {
   "cell_type": "code",
   "execution_count": 12,
   "metadata": {},
   "outputs": [
    {
     "name": "stdout",
     "output_type": "stream",
     "text": [
      "Rows: 20\n",
      "Columns: 12\n",
      "$ Metadata_Source     <cat> source_2, source_2, source_2, source_2, source_2, source_2, source_2, source_2, source_2, source_2\n",
      "$ Metadata_Plate      <cat> 1086293447, 1053601947, 1086289655, 1086293386, 1086292846, 1053600742, 1086293522, 1086292112, 1053601923, 1086292488\n",
      "$ Metadata_Well       <cat> K08, K08, K08, K08, K08, K08, K08, K08, K08, K08\n",
      "$ Metadata_JCP2022    <cat> JCP2022_017468, JCP2022_079337, DMSO, DMSO, JCP2022_043213, JCP2022_015567, JCP2022_072903, JCP2022_064143, JCP2022_031513, JCP2022_096951\n",
      "$ Metadata_Batch      <cat> 20210726_Batch_7, 20210607_Batch_2, 20211003_Batch_13, 20210726_Batch_7, 20210808_Batch_4, 20210614_Batch_1, 20210726_Batch_7, 20210823_Batch_10, 20210607_Batch_2, 20210816_Batch_9\n",
      "$ Metadata_PlateType  <cat> COMPOUND, COMPOUND, COMPOUND, COMPOUND, COMPOUND, COMPOUND, COMPOUND, COMPOUND, COMPOUND, COMPOUND\n",
      "$ Metadata_PertType   <cat> trt, trt, negcon, negcon, trt, trt, trt, trt, trt, trt\n",
      "$ Metadata_Row        <cat> K, K, K, K, K, K, K, K, K, K\n",
      "$ Metadata_Column     <cat> 08, 08, 08, 08, 08, 08, 08, 08, 08, 08\n",
      "$ Metadata_Microscope <cat> CV8000, CV8000, CV8000, CV8000, CV8000, CV8000, CV8000, CV8000, CV8000, CV8000\n",
      "$ harmony_0           <f32> 1.1136434078216553, 1.127221703529358, -0.8862037062644958, -0.4963621497154236, 0.41090500354766846, 0.49736887216567993, 0.011117205023765564, -1.2434213161468506, -0.2092592865228653, -0.32188597321510315\n",
      "$ harmony_1           <f32> 1.880698561668396, 0.4357527792453766, 0.3586848974227905, -0.20928393304347992, -0.5303058624267578, 0.7216712832450867, -0.8157482743263245, -0.1556658297777176, -1.2072654962539673, -0.5447036623954773\n",
      "\n"
     ]
    }
   ],
   "source": [
    "preview(compound)"
   ]
  }
 ],
 "metadata": {
  "kernelspec": {
   "display_name": "datasets-jB4-vb4B",
   "language": "python",
   "name": "python3"
  },
  "language_info": {
   "codemirror_mode": {
    "name": "ipython",
    "version": 3
   },
   "file_extension": ".py",
   "mimetype": "text/x-python",
   "name": "python",
   "nbconvert_exporter": "python",
   "pygments_lexer": "ipython3",
   "version": "3.10.12"
  }
 },
 "nbformat": 4,
 "nbformat_minor": 2
}
